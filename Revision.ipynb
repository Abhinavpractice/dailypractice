{
  "nbformat": 4,
  "nbformat_minor": 0,
  "metadata": {
    "colab": {
      "provenance": [],
      "authorship_tag": "ABX9TyPywpucdd0IvUosX/YxJo3I",
      "include_colab_link": true
    },
    "kernelspec": {
      "name": "python3",
      "display_name": "Python 3"
    },
    "language_info": {
      "name": "python"
    }
  },
  "cells": [
    {
      "cell_type": "markdown",
      "metadata": {
        "id": "view-in-github",
        "colab_type": "text"
      },
      "source": [
        "<a href=\"https://colab.research.google.com/github/Abhinavpractice/dailypractice/blob/main/Revision.ipynb\" target=\"_parent\"><img src=\"https://colab.research.google.com/assets/colab-badge.svg\" alt=\"Open In Colab\"/></a>"
      ]
    },
    {
      "cell_type": "code",
      "execution_count": null,
      "metadata": {
        "colab": {
          "base_uri": "https://localhost:8080/"
        },
        "id": "DZiYlSA_1pHO",
        "outputId": "bd489855-07ce-4434-fd3b-472ab552629c"
      },
      "outputs": [
        {
          "output_type": "stream",
          "name": "stdout",
          "text": [
            "1\n",
            "3\n",
            "4\n",
            "2.6666666666666665\n"
          ]
        }
      ],
      "source": [
        "a=float(input())\n",
        "b=float(input())\n",
        "c=float(input())\n",
        "d=(a+b+c)/3\n",
        "print(d)"
      ]
    },
    {
      "cell_type": "code",
      "source": [
        "a=float(input())\n",
        "b=float(input())\n",
        "c=float(input())\n",
        "d=float(input())\n",
        "e=(a+b+c)/d\n",
        "print(e)"
      ],
      "metadata": {
        "colab": {
          "base_uri": "https://localhost:8080/"
        },
        "id": "JeYXl0Dh37ZG",
        "outputId": "b809cf78-9f7e-4957-9629-4e616aed8997"
      },
      "execution_count": null,
      "outputs": [
        {
          "output_type": "stream",
          "name": "stdout",
          "text": [
            "2\n",
            "2\n",
            "2\n",
            "4\n",
            "1.5\n"
          ]
        }
      ]
    },
    {
      "cell_type": "code",
      "source": [
        "x=float(input())\n",
        "y=float(input())\n",
        "\n",
        "z=x**y\n",
        "print(z)"
      ],
      "metadata": {
        "colab": {
          "base_uri": "https://localhost:8080/"
        },
        "id": "dvwRzpqZ4arM",
        "outputId": "7ffba419-304f-4183-eae3-ede6d43eac46"
      },
      "execution_count": null,
      "outputs": [
        {
          "output_type": "stream",
          "name": "stdout",
          "text": [
            "4\n",
            "5\n",
            "1024.0\n"
          ]
        }
      ]
    },
    {
      "cell_type": "code",
      "source": [
        "a=int(input())\n",
        "b=int(input())\n",
        "c=int(input())\n",
        "\n",
        "d=b-a\n",
        "e=c-b\n",
        "\n",
        "print(d)"
      ],
      "metadata": {
        "id": "v8meCuus5F_Y",
        "colab": {
          "base_uri": "https://localhost:8080/"
        },
        "outputId": "7c3965f2-d5c1-487e-ebbb-71dc609e8cd5"
      },
      "execution_count": null,
      "outputs": [
        {
          "output_type": "stream",
          "name": "stdout",
          "text": [
            "4\n",
            "2\n",
            "5\n",
            "-2\n"
          ]
        }
      ]
    },
    {
      "cell_type": "code",
      "source": [
        "x1=int(input())\n",
        "x2=int(input())\n",
        "\n",
        "y1=int(input())\n",
        "y2=int(input())\n",
        "\n",
        "ans=(x2-x1)*(y2-y1)\n",
        "\n",
        "print(ans)"
      ],
      "metadata": {
        "colab": {
          "base_uri": "https://localhost:8080/"
        },
        "id": "a_c3klWBAz8D",
        "outputId": "feb463b3-773a-4733-99c9-dc5b97d205ce"
      },
      "execution_count": null,
      "outputs": [
        {
          "output_type": "stream",
          "name": "stdout",
          "text": [
            "4\n",
            "2\n",
            "4\n",
            "2\n",
            "4\n"
          ]
        }
      ]
    },
    {
      "cell_type": "code",
      "source": [
        "n=int(input())\n",
        "\n",
        "if(n==0):\n",
        "  print(\"zero\")\n",
        "elif(n<0):\n",
        "  print(\"negative\")\n",
        "elif(n>0):\n",
        "  print(\"positive\")"
      ],
      "metadata": {
        "colab": {
          "base_uri": "https://localhost:8080/"
        },
        "id": "86cjLSUOBkdF",
        "outputId": "268995bf-2fdb-4df5-ea2c-fb4187784e18"
      },
      "execution_count": null,
      "outputs": [
        {
          "output_type": "stream",
          "name": "stdout",
          "text": [
            "5\n",
            "positive\n"
          ]
        }
      ]
    },
    {
      "cell_type": "code",
      "source": [
        "inp=int(input())\n",
        "i=0\n",
        "sum=0\n",
        "\n",
        "while(i<=inp):\n",
        "  \n",
        "  sum=sum+i\n",
        "  i=i+1\n",
        "print(sum)"
      ],
      "metadata": {
        "id": "5Gm6WJXrDb07",
        "colab": {
          "base_uri": "https://localhost:8080/"
        },
        "outputId": "abf021aa-4433-4302-e4aa-1f31da94c209"
      },
      "execution_count": 2,
      "outputs": [
        {
          "output_type": "stream",
          "name": "stdout",
          "text": [
            "4\n",
            "10\n"
          ]
        }
      ]
    },
    {
      "cell_type": "code",
      "source": [
        "user_input=float(input())\n",
        "initial=float(input())\n",
        "sum=0\n",
        "\n",
        "while(initial<=user_input):\n",
        "  sum=sum+initial\n",
        "  initial=initial+1\n",
        "print(sum)"
      ],
      "metadata": {
        "colab": {
          "base_uri": "https://localhost:8080/"
        },
        "id": "-7QgwKzPgIXS",
        "outputId": "e2653d31-89da-4c36-99fb-97cb18a3e960"
      },
      "execution_count": 6,
      "outputs": [
        {
          "output_type": "stream",
          "name": "stdout",
          "text": [
            "4\n",
            "0\n",
            "10.0\n"
          ]
        }
      ]
    },
    {
      "cell_type": "code",
      "source": [],
      "metadata": {
        "id": "yQDe2BUWh4lH"
      },
      "execution_count": null,
      "outputs": []
    }
  ]
}