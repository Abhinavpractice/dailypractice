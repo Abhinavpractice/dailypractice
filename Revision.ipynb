{
  "nbformat": 4,
  "nbformat_minor": 0,
  "metadata": {
    "colab": {
      "provenance": [],
      "authorship_tag": "ABX9TyOch+9eEMBSmSiHV7XemvJP",
      "include_colab_link": true
    },
    "kernelspec": {
      "name": "python3",
      "display_name": "Python 3"
    },
    "language_info": {
      "name": "python"
    }
  },
  "cells": [
    {
      "cell_type": "markdown",
      "metadata": {
        "id": "view-in-github",
        "colab_type": "text"
      },
      "source": [
        "<a href=\"https://colab.research.google.com/github/Abhinavpractice/dailypractice/blob/main/Revision.ipynb\" target=\"_parent\"><img src=\"https://colab.research.google.com/assets/colab-badge.svg\" alt=\"Open In Colab\"/></a>"
      ]
    },
    {
      "cell_type": "code",
      "execution_count": 1,
      "metadata": {
        "colab": {
          "base_uri": "https://localhost:8080/"
        },
        "id": "O3XxoUHODd3E",
        "outputId": "56d8d6db-7aef-4d7c-b897-cb62051b2851"
      },
      "outputs": [
        {
          "output_type": "stream",
          "name": "stdout",
          "text": [
            "4\n",
            "10\n"
          ]
        }
      ],
      "source": [
        "n=int(input())\n",
        "i=1\n",
        "sum=0\n",
        "while(i<=n):\n",
        "  sum=sum+i\n",
        "  i=i+1\n",
        "print(sum)"
      ]
    },
    {
      "cell_type": "code",
      "source": [
        "n=int(input())\n",
        "i=1\n",
        "sum=0\n",
        "while(i<=n):\n",
        "  if n!2=0:\n",
        "\n",
        "  sum=sum+i\n",
        "  i=i+1\n",
        "  print(sum)"
      ],
      "metadata": {
        "colab": {
          "base_uri": "https://localhost:8080/",
          "height": 130
        },
        "id": "7Q870INxE-Vt",
        "outputId": "bf194b6d-2788-4551-ae6c-93533763fa64"
      },
      "execution_count": 2,
      "outputs": [
        {
          "output_type": "error",
          "ename": "SyntaxError",
          "evalue": "ignored",
          "traceback": [
            "\u001b[0;36m  File \u001b[0;32m\"<ipython-input-2-2aae1857a3b6>\"\u001b[0;36m, line \u001b[0;32m5\u001b[0m\n\u001b[0;31m    if n!2=0:\u001b[0m\n\u001b[0m        ^\u001b[0m\n\u001b[0;31mSyntaxError\u001b[0m\u001b[0;31m:\u001b[0m invalid syntax\n"
          ]
        }
      ]
    },
    {
      "cell_type": "code",
      "source": [
        "n=int(input())\n",
        "i=0\n",
        "sum=0\n",
        "\n",
        "while(i<=n):\n",
        "  if(n%2==0):\n",
        "    sum=sum+i\n",
        "  i=i+1\n",
        "\n",
        "print(sum)"
      ],
      "metadata": {
        "colab": {
          "base_uri": "https://localhost:8080/"
        },
        "id": "hEJ-InsoGSrU",
        "outputId": "9d1e6206-3513-41fc-ee1e-a5147ec4e268"
      },
      "execution_count": 5,
      "outputs": [
        {
          "output_type": "stream",
          "name": "stdout",
          "text": [
            "10\n",
            "55\n"
          ]
        }
      ]
    },
    {
      "cell_type": "code",
      "source": [
        "S=int(input())\n",
        "W=int(input())\n",
        "E=int(input())\n",
        "\n",
        "while(S<=E):\n",
        "  f=((s-32)*(5/9))\n",
        "  "
      ],
      "metadata": {
        "id": "BKlivJvxGwGC"
      },
      "execution_count": null,
      "outputs": []
    },
    {
      "cell_type": "code",
      "source": [
        "S=int(input())\n",
        "E=int(input())\n",
        "W=int(input())\n",
        "\n",
        "while(S<=E):\n",
        "  F=(S-32)*(5/9)\n",
        "  print(S,end=\" \")\n",
        "\n",
        "  print(int(F))\n",
        "\n",
        "  S=S+W\n"
      ],
      "metadata": {
        "colab": {
          "base_uri": "https://localhost:8080/"
        },
        "id": "2unySoilJtcU",
        "outputId": "3688e589-f37e-4791-b52c-80bb31124662"
      },
      "execution_count": 8,
      "outputs": [
        {
          "output_type": "stream",
          "name": "stdout",
          "text": [
            "0\n",
            "100\n",
            "20\n",
            "0 -17\n",
            "20 -6\n",
            "40 4\n",
            "60 15\n",
            "80 26\n",
            "100 37\n"
          ]
        }
      ]
    },
    {
      "cell_type": "markdown",
      "source": [
        "Calculator\n",
        "Send Feedback\n",
        "Write a program that performs the tasks of a simple calculator. The program should first take an integer as input and then based on that integer perform the task as given below.\n",
        "1. If the input is 1, then 2 integers are taken from the user and their sum is printed.\n",
        "2. If the input is 2, then 2 integers are taken from the user and their difference(1st number - 2nd number) is printed.\n",
        "3. If the input is 3, then 2 integers are taken from the user and their product is printed.\n",
        "4. If the input is 4, then 2 integers are taken from the user and the quotient obtained (on dividing 1st number by 2nd number) is printed.\n",
        "5. If the input is 5, then 2 integers are taken from the user and their remainder(1st number mod 2nd number) is printed.\n",
        "6. If the input is 6, then the program exits.\n",
        "7. For any other input, then print \"Invalid Operation\".\n",
        "\n",
        "Note: Each answer in next line.\n",
        "Input format:\n",
        "Take integers as input, in accordance to the description of the question. \n",
        "\n",
        "Constraints:\n",
        "Time Limit: 1 second"
      ],
      "metadata": {
        "id": "qCXInuLzLPXK"
      }
    },
    {
      "cell_type": "code",
      "source": [
        "o=int(input())\n",
        "\n",
        "while(o!=6):\n",
        "  if o>0 and o<=5:\n",
        "        a=int(input())\n",
        "        b=int(input())\n",
        "  if o==1:\n",
        "    sum=a+b\n",
        "    print(sum)\n",
        "  \n",
        "  if o==2:\n",
        "    diff=a-b\n",
        "    print(diff)\n",
        "  \n",
        "  if o==3:\n",
        "    prod=a*b\n",
        "    print(prod)\n",
        "  \n",
        "  if o==4:\n",
        "    div=a/b\n",
        "    print(div)\n",
        "\n",
        "  if o==5:\n",
        "    mod=a%b\n",
        "    print(mod)\n",
        "  \n",
        "  if o>6 or o<1:\n",
        "    print(\"invalid operation\")\n"
      ],
      "metadata": {
        "colab": {
          "base_uri": "https://localhost:8080/"
        },
        "id": "Vh42R5QFLW5M",
        "outputId": "7bf05119-7b32-4296-f941-a9c3c0a34e97"
      },
      "execution_count": 10,
      "outputs": [
        {
          "name": "stdout",
          "output_type": "stream",
          "text": [
            "6\n"
          ]
        }
      ]
    }
  ]
}